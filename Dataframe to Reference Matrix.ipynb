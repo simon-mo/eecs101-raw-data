{
 "cells": [
  {
   "cell_type": "code",
   "execution_count": 19,
   "metadata": {},
   "outputs": [],
   "source": [
    "import pickle\n",
    "import numpy as np\n",
    "import pandas as pd\n",
    "import re"
   ]
  },
  {
   "cell_type": "code",
   "execution_count": 4,
   "metadata": {},
   "outputs": [
    {
     "data": {
      "text/html": [
       "<div>\n",
       "<style>\n",
       "    .dataframe thead tr:only-child th {\n",
       "        text-align: right;\n",
       "    }\n",
       "\n",
       "    .dataframe thead th {\n",
       "        text-align: left;\n",
       "    }\n",
       "\n",
       "    .dataframe tbody tr th {\n",
       "        vertical-align: top;\n",
       "    }\n",
       "</style>\n",
       "<table border=\"1\" class=\"dataframe\">\n",
       "  <thead>\n",
       "    <tr style=\"text-align: right;\">\n",
       "      <th></th>\n",
       "      <th>cid</th>\n",
       "      <th>content</th>\n",
       "      <th>followup</th>\n",
       "      <th>i_answer</th>\n",
       "      <th>s_answer</th>\n",
       "      <th>subject</th>\n",
       "      <th>time</th>\n",
       "      <th>type</th>\n",
       "    </tr>\n",
       "  </thead>\n",
       "  <tbody>\n",
       "    <tr>\n",
       "      <th>0</th>\n",
       "      <td>5851</td>\n",
       "      <td>Hi everyone, I hope you are enjoying winter br...</td>\n",
       "      <td>I completely agree with this post. Lately the ...</td>\n",
       "      <td>None</td>\n",
       "      <td>None</td>\n",
       "      <td>Piazza Etiquette</td>\n",
       "      <td>2017-12-31 08:52:02</td>\n",
       "      <td>0</td>\n",
       "    </tr>\n",
       "    <tr>\n",
       "      <th>1</th>\n",
       "      <td>5821</td>\n",
       "      <td>**Help the EECS Department &amp; Win Amazon Gift C...</td>\n",
       "      <td></td>\n",
       "      <td>None</td>\n",
       "      <td>None</td>\n",
       "      <td>12.22.2017 Undergraduate Announcements</td>\n",
       "      <td>2017-12-22 17:42:33</td>\n",
       "      <td>1</td>\n",
       "    </tr>\n",
       "    <tr>\n",
       "      <th>2</th>\n",
       "      <td>5790</td>\n",
       "      <td>**The CS side did such a nice job of breaking ...</td>\n",
       "      <td></td>\n",
       "      <td>None</td>\n",
       "      <td>None</td>\n",
       "      <td>EE/EECS Course Enrollment Tips</td>\n",
       "      <td>2017-12-18 20:58:02</td>\n",
       "      <td>1</td>\n",
       "    </tr>\n",
       "    <tr>\n",
       "      <th>3</th>\n",
       "      <td>5750</td>\n",
       "      <td>The CS Advising Office will be closed for advi...</td>\n",
       "      <td></td>\n",
       "      <td>None</td>\n",
       "      <td>None</td>\n",
       "      <td>LSCS Winter Schedule</td>\n",
       "      <td>2017-12-11 17:18:29</td>\n",
       "      <td>1</td>\n",
       "    </tr>\n",
       "    <tr>\n",
       "      <th>4</th>\n",
       "      <td>5737</td>\n",
       "      <td>For the CS major, students may transfer up to ...</td>\n",
       "      <td>Is this for EECS upper divs? Or does it also l...</td>\n",
       "      <td>None</td>\n",
       "      <td>None</td>\n",
       "      <td>new policy regarding transferring study abroad...</td>\n",
       "      <td>2017-12-11 16:39:53</td>\n",
       "      <td>1</td>\n",
       "    </tr>\n",
       "  </tbody>\n",
       "</table>\n",
       "</div>"
      ],
      "text/plain": [
       "    cid                                            content  \\\n",
       "0  5851  Hi everyone, I hope you are enjoying winter br...   \n",
       "1  5821  **Help the EECS Department & Win Amazon Gift C...   \n",
       "2  5790  **The CS side did such a nice job of breaking ...   \n",
       "3  5750  The CS Advising Office will be closed for advi...   \n",
       "4  5737  For the CS major, students may transfer up to ...   \n",
       "\n",
       "                                            followup i_answer s_answer  \\\n",
       "0  I completely agree with this post. Lately the ...     None     None   \n",
       "1                                                        None     None   \n",
       "2                                                        None     None   \n",
       "3                                                        None     None   \n",
       "4  Is this for EECS upper divs? Or does it also l...     None     None   \n",
       "\n",
       "                                             subject                time  type  \n",
       "0                                 Piazza Etiquette   2017-12-31 08:52:02     0  \n",
       "1           12.22.2017 Undergraduate Announcements   2017-12-22 17:42:33     1  \n",
       "2                   EE/EECS Course Enrollment Tips   2017-12-18 20:58:02     1  \n",
       "3                             LSCS Winter Schedule   2017-12-11 17:18:29     1  \n",
       "4  new policy regarding transferring study abroad... 2017-12-11 16:39:53     1  "
      ]
     },
     "execution_count": 4,
     "metadata": {},
     "output_type": "execute_result"
    }
   ],
   "source": [
    "with open('./all_content_dataframe.pkl', 'rb') as f:\n",
    "    df = pickle.load(f)\n",
    "df.head()"
   ]
  },
  {
   "cell_type": "code",
   "execution_count": 12,
   "metadata": {},
   "outputs": [],
   "source": [
    "texts = df.iloc[:,1:-3]\n",
    "pure_texts = (texts['content'] + texts['followup'] \n",
    "              + texts['i_answer'].map(str) \n",
    "              + texts['s_answer'].map(str))"
   ]
  },
  {
   "cell_type": "code",
   "execution_count": 13,
   "metadata": {},
   "outputs": [
    {
     "data": {
      "text/plain": [
       "0    Hi everyone, I hope you are enjoying winter br...\n",
       "1    **Help the EECS Department & Win Amazon Gift C...\n",
       "2    **The CS side did such a nice job of breaking ...\n",
       "3    The CS Advising Office will be closed for advi...\n",
       "4    For the CS major, students may transfer up to ...\n",
       "dtype: object"
      ]
     },
     "execution_count": 13,
     "metadata": {},
     "output_type": "execute_result"
    }
   ],
   "source": [
    "pure_texts.head()"
   ]
  },
  {
   "cell_type": "code",
   "execution_count": 16,
   "metadata": {},
   "outputs": [
    {
     "data": {
      "text/plain": [
       "['@3902', '@3622', '@5756']"
      ]
     },
     "execution_count": 16,
     "metadata": {},
     "output_type": "execute_result"
    }
   ],
   "source": [
    "re.findall('@[\\d]+', pure_texts[0])"
   ]
  },
  {
   "cell_type": "code",
   "execution_count": 18,
   "metadata": {},
   "outputs": [
    {
     "data": {
      "text/plain": [
       "5874"
      ]
     },
     "execution_count": 18,
     "metadata": {},
     "output_type": "execute_result"
    }
   ],
   "source": [
    "max_cid = max(df['cid'])\n",
    "max_cid"
   ]
  },
  {
   "cell_type": "code",
   "execution_count": 20,
   "metadata": {
    "collapsed": true
   },
   "outputs": [],
   "source": [
    "adj_mat = np.zeros((max_cid, max_cid), dtype=int)"
   ]
  },
  {
   "cell_type": "code",
   "execution_count": 23,
   "metadata": {},
   "outputs": [],
   "source": [
    "for cid, text in zip(df['cid'], pure_texts):\n",
    "    refs = re.findall('@[\\d]+', text)\n",
    "    if len(refs) > 0:\n",
    "        ref_cids = [int(r[1:]) for r in refs] #Strip away the @ sign\n",
    "        for ref_cid in ref_cids:\n",
    "            adj_mat[cid][ref_cid] += 1"
   ]
  },
  {
   "cell_type": "code",
   "execution_count": 34,
   "metadata": {
    "collapsed": true
   },
   "outputs": [],
   "source": [
    "np.save('ref_matrix', adj_mat)"
   ]
  },
  {
   "cell_type": "code",
   "execution_count": null,
   "metadata": {
    "collapsed": true
   },
   "outputs": [],
   "source": []
  }
 ],
 "metadata": {
  "kernelspec": {
   "display_name": "Python 3",
   "language": "python",
   "name": "python3"
  },
  "language_info": {
   "codemirror_mode": {
    "name": "ipython",
    "version": 3
   },
   "file_extension": ".py",
   "mimetype": "text/x-python",
   "name": "python",
   "nbconvert_exporter": "python",
   "pygments_lexer": "ipython3",
   "version": "3.6.2"
  },
  "toc": {
   "nav_menu": {},
   "number_sections": false,
   "sideBar": false,
   "skip_h1_title": false,
   "toc_cell": false,
   "toc_position": {},
   "toc_section_display": "block",
   "toc_window_display": false
  }
 },
 "nbformat": 4,
 "nbformat_minor": 2
}
