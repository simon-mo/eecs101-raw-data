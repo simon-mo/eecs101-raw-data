{
 "cells": [
  {
   "cell_type": "code",
   "execution_count": 2,
   "metadata": {
    "collapsed": true
   },
   "outputs": [],
   "source": [
    "# You may need to `pip install piazza-api`\n",
    "from piazza_api import Piazza\n",
    "\n",
    "EMAIL = ...\n",
    "PASSWORD = ...\n",
    "\n",
    "EECS101_ID = 'hyq0br1u3kx7dg'\n",
    "\n",
    "p = Piazza()\n",
    "p.user_login(email=EMAIL, password=PASSWORD)\n",
    "\n",
    "eecs101 = p.network(EECS101_ID)"
   ]
  },
  {
   "cell_type": "code",
   "execution_count": 4,
   "metadata": {},
   "outputs": [
    {
     "name": "stdout",
     "output_type": "stream",
     "text": [
      "0.0     \r"
     ]
    }
   ],
   "source": [
    "all_posts = []\n",
    "for i, p in enumerate(eecs101.iter_all_posts()):\n",
    "    print('Progress', i/5874, '    ', end=\"\\r\")\n",
    "    all_posts.append(p)"
   ]
  },
  {
   "cell_type": "code",
   "execution_count": 8,
   "metadata": {
    "collapsed": true
   },
   "outputs": [],
   "source": [
    "import pickle"
   ]
  },
  {
   "cell_type": "code",
   "execution_count": null,
   "metadata": {
    "collapsed": true
   },
   "outputs": [],
   "source": [
    "with open('all_posts.pkl', 'wb') as f:\n",
    "    pickle.dump(all_posts, f)"
   ]
  }
 ],
 "metadata": {
  "kernelspec": {
   "display_name": "Python 3",
   "language": "python",
   "name": "python3"
  },
  "language_info": {
   "codemirror_mode": {
    "name": "ipython",
    "version": 3
   },
   "file_extension": ".py",
   "mimetype": "text/x-python",
   "name": "python",
   "nbconvert_exporter": "python",
   "pygments_lexer": "ipython3",
   "version": "3.6.2"
  },
  "toc": {
   "nav_menu": {},
   "number_sections": false,
   "sideBar": false,
   "skip_h1_title": false,
   "toc_cell": false,
   "toc_position": {},
   "toc_section_display": "block",
   "toc_window_display": false
  }
 },
 "nbformat": 4,
 "nbformat_minor": 2
}
